{
 "cells": [
  {
   "cell_type": "code",
   "execution_count": 1,
   "metadata": {},
   "outputs": [],
   "source": [
    "from main import *\n",
    "import pandas as pd\n",
    "import numpy as np\n",
    "import matplotlib.pyplot as plt\n",
    "import os\n",
    "import logging\n",
    "from datetime import timedelta, datetime\n",
    "\n",
    "logging.getLogger('pdfminer').setLevel(logging.ERROR)"
   ]
  },
  {
   "cell_type": "code",
   "execution_count": 2,
   "metadata": {},
   "outputs": [],
   "source": [
    "receipts_path = \"data/receipts\"\n",
    "receipts = [os.path.join(receipts_path, f) for f in os.listdir(receipts_path) if f.endswith('.pdf')]\n",
    "\n",
    "all_receipts = []\n",
    "all_products = []\n",
    "\n",
    "for receipt in receipts:\n",
    "    r, p = parse_receipt(receipt)\n",
    "    all_receipts.append(r)\n",
    "    all_products.append(p)\n",
    "\n",
    "raw_receipts_df = pd.concat(all_receipts, ignore_index=True)\n",
    "raw_receipts_df.to_csv(\"data/receipts.csv\", index=False)\n",
    "\n",
    "raw_products_df = pd.concat(all_products, ignore_index=True)\n",
    "raw_products_df.to_csv(\"data/scanned_items.csv\", index=False)"
   ]
  },
  {
   "cell_type": "code",
   "execution_count": 3,
   "metadata": {},
   "outputs": [
    {
     "name": "stdout",
     "output_type": "stream",
     "text": [
      "Scanned items: 3538\n",
      "Articles: 1161\n"
     ]
    }
   ],
   "source": [
    "scanned_items_df = pd.read_csv(\"data/scanned_items.csv\")\n",
    "print(\"Scanned items:\", len(scanned_items_df))\n",
    "\n",
    "articles_df = scanned_items_df[['article_number', 'article_name']].drop_duplicates(subset=['article_number'])\n",
    "print(\"Articles:\", len(articles_df))\n",
    "\n",
    "articles_df['category'] = None\n",
    "\n",
    "articles_df.to_csv(\"data/articles.csv\", index=False)"
   ]
  },
  {
   "cell_type": "code",
   "execution_count": 4,
   "metadata": {},
   "outputs": [],
   "source": [
    "df = pd.read_csv('data/articles.csv')\n",
    "\n",
    "dairy_kw = ['mjölk', 'ost', 'yoghurt', 'kvarg', 'smör', 'grädde', 'fraiche']\n",
    "meat_kw = ['biff', 'fläsk', 'kyckling', 'skinka', 'korv', 'salsiccia', 'bacon', 'kött', 'fransyska', 'färs']\n",
    "fish_kw = ['fisk', 'lax', 'tonfisk', 'torsk', 'makrill']\n",
    "produce_kw = ['banan', 'äpple', 'apelsin', 'tomat', 'potatis', 'citron', 'lime', 'melon', 'mango', 'kiwi', 'avocado', 'paprika', 'gurka', 'lök', 'onion', 'vitlök', 'frukt']\n",
    "\n",
    "def categorize(name):\n",
    "    lname = name.lower()\n",
    "    for kw in dairy_kw:\n",
    "        if kw in lname:\n",
    "            return 'Dairy'\n",
    "    for kw in meat_kw:\n",
    "        if kw in lname:\n",
    "            return 'Meat'\n",
    "    for kw in fish_kw:\n",
    "        if kw in lname:\n",
    "            return 'Fish'\n",
    "    for kw in produce_kw:\n",
    "        if kw in lname:\n",
    "            return 'Produce'\n",
    "    return\n",
    "\n",
    "df['category'] = df['article_name'].apply(categorize)\n",
    "\n",
    "df.to_csv(\"data/pre_categorized_articles.csv\", index=False)"
   ]
  }
 ],
 "metadata": {
  "kernelspec": {
   "display_name": "Python 3",
   "language": "python",
   "name": "python3"
  },
  "language_info": {
   "codemirror_mode": {
    "name": "ipython",
    "version": 3
   },
   "file_extension": ".py",
   "mimetype": "text/x-python",
   "name": "python",
   "nbconvert_exporter": "python",
   "pygments_lexer": "ipython3",
   "version": "3.10.11"
  }
 },
 "nbformat": 4,
 "nbformat_minor": 2
}
